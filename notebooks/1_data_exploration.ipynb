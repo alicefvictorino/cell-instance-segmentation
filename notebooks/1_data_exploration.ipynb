{
  "nbformat": 4,
  "nbformat_minor": 0,
  "metadata": {
    "colab": {
      "provenance": []
    },
    "kernelspec": {
      "name": "python3",
      "display_name": "Python 3"
    },
    "language_info": {
      "name": "python"
    }
  },
  "cells": [
    {
      "cell_type": "markdown",
      "source": [
        "# 1. Setup and Data Loading\n",
        "\n",
        "This first step imports all the essential libraries and loads the `train.csv` file into a pandas DataFrame. This allows us to get a first look at the dataset's structure."
      ],
      "metadata": {
        "id": "md_cell_1_1"
      }
    },
    {
      "cell_type": "code",
      "source": [
        "import pandas as pd\n",
        "import numpy as np\n",
        "import matplotlib.pyplot as plt\n",
        "import cv2\n",
        "from pathlib import Path\n",
        "\n",
        "# --- Configuration ---\n",
        "# ATTENTION: Change this path to the location of your train.csv file.\n",
        "# It can be a local path on your PC or a path in Google Drive.\n",
        "CSV_PATH = '../data/raw_data/train.csv' # Example of a relative path\n",
        "\n",
        "# Load the dataset\n",
        "try:\n",
        "    df = pd.read_csv(CSV_PATH)\n",
        "    print(\"train.csv file loaded successfully!\")\n",
        "    display(df.head())\n",
        "except FileNotFoundError:\n",
        "    print(f\"ERROR: File not found at '{CSV_PATH}'. Please check the path.\")"
      ],
      "metadata": {
        "id": "code_cell_1_1"
      },
      "execution_count": null,
      "outputs": []
    },
    {
      "cell_type": "markdown",
      "source": [
        "# 2. Class Distribution Analysis\n",
        "\n",
        "Here, we analyze the distribution of annotations across the different cell types. This is crucial to check for class imbalance, which might affect model training."
      ],
      "metadata": {
        "id": "md_cell_1_2"
      }
    },
    {
      "cell_type": "code",
      "source": [
        "# Check if the dataframe 'df' was loaded\n",
        "if 'df' in locals():\n",
        "    print(\"Cell Distribution (by annotation count):\")\n",
        "    class_counts = df['cell_type'].value_counts()\n",
        "    print(class_counts)\n",
        "\n",
        "    # Plot the bar chart\n",
        "    plt.figure(figsize=(10, 6))\n",
        "    class_counts.plot(kind='bar', color=['skyblue', 'salmon', 'lightgreen'])\n",
        "    plt.title('Distribution of Annotations by Cell Type')\n",
        "    plt.xlabel('Cell Type')\n",
        "    plt.ylabel('Number of Annotations (Cells)')\n",
        "    plt.xticks(rotation=0)\n",
        "    plt.grid(axis='y', linestyle='--', alpha=0.7)\n",
        "    plt.show()"
      ],
      "metadata": {
        "id": "code_cell_1_2"
      },
      "execution_count": null,
      "outputs": []
    },
    {
      "cell_type": "markdown",
      "source": [
        "# 3. RLE Decoding and Mask Visualization\n",
        "\n",
        "This section contains the function to decode the Run-Length Encoding strings into binary masks. We then visualize a sample mask to ensure our decoding logic is correct before using it in the main preprocessing pipeline."
      ],
      "metadata": {
        "id": "md_cell_1_3"
      }
    },
    {
      "cell_type": "code",
      "source": [
        "def rle_to_mask(rle_string: str, height: int, width: int) -> np.ndarray:\n",
        "    \"\"\"\n",
        "    Converts a Run-Length Encoding (RLE) string to a binary mask.\n",
        "    \n",
        "    Args:\n",
        "        rle_string (str): The RLE-encoded string.\n",
        "        height (int): The height of the target image.\n",
        "        width (int): The width of the target image.\n",
        "        \n",
        "    Returns:\n",
        "        np.ndarray: A binary mask as a NumPy array.\n",
        "    \"\"\"\n",
        "    if pd.isna(rle_string):\n",
        "        return np.zeros((height, width), dtype=np.uint8)\n",
        "    \n",
        "    s = rle_string.split()\n",
        "    starts, lengths = [np.asarray(x, dtype=int) for x in (s[0:][::2], s[1:][::2])]\n",
        "    starts -= 1\n",
        "    \n",
        "    img = np.zeros(width * height, dtype=np.uint8)\n",
        "    for lo, hi in zip(starts, lengths):\n",
        "        img[lo:lo + hi] = 1\n",
        "        \n",
        "    # The 'F' (Fortran) order is important to match the RLE generation method\n",
        "    return img.reshape((height, width), order='F').T\n",
        "\n",
        "# Visualize a sample mask from the dataset\n",
        "if 'df' in locals():\n",
        "    # Get a sample annotation (e.g., the 10th row)\n",
        "    sample_annotation = df.iloc[10]\n",
        "    mask = rle_to_mask(sample_annotation['annotation'], sample_annotation['height'], sample_annotation['width'])\n",
        "\n",
        "    plt.figure(figsize=(8, 8))\n",
        "    plt.imshow(mask, cmap='gray')\n",
        "    plt.title(f\"Sample Mask for Cell Type: {sample_annotation['cell_type']} (ID: {sample_annotation['id']})\")\n",
        "    plt.axis('off')\n",
        "    plt.show()"
      ],
      "metadata": {
        "id": "code_cell_1_3"
      },
      "execution_count": null,
      "outputs": []
    }
  ]
}
