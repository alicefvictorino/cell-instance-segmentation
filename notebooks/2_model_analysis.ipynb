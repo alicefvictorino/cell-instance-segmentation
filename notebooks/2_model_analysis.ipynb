{
  "nbformat": 4,
  "nbformat_minor": 0,
  "metadata": {
    "colab": {
      "provenance": []
    },
    "kernelspec": {
      "name": "python3",
      "display_name": "Python 3"
    },
    "language_info": {
      "name": "python"
    }
  },
  "cells": [
    {
      "cell_type": "markdown",
      "source": [
        "# 1. Setup and Trained Model Loading\n",
        "\n",
        "This notebook is your interactive lab for analyzing the results of a trained model. First, we'll import the necessary libraries and load our best-performing model (`best.pt`) from a training run."
      ],
      "metadata": {
        "id": "md_cell_2_1"
      }
    },
    {
      "cell_type": "code",
      "source": [
        "# Import necessary libraries\n",
        "from ultralytics import YOLO\n",
        "import cv2\n",
        "import matplotlib.pyplot as plt\n",
        "import pandas as pd\n",
        "import numpy as np\n",
        "import random\n",
        "from pathlib import Path\n",
        "from IPython.display import display\n",
        "\n",
        "# --- Configuration ---\n",
        "# ATTENTION: Change this path to your best trained model (best.pt)\n",
        "MODEL_PATH = '../runs/train/yolov11n_seg_25_epochs/weights/best.pt' # Example path\n",
        "\n",
        "# ATTENTION: Change this to the path of your original images\n",
        "IMAGES_DIR = '../data/raw_data/train'\n",
        "\n",
        "# Load the model\n",
        "try:\n",
        "    model = YOLO(MODEL_PATH)\n",
        "    print(f\"Model loaded successfully from: {MODEL_PATH}\")\n",
        "except Exception as e:\n",
        "    print(f\"ERROR loading model: {e}\")"
      ],
      "metadata": {
        "id": "code_cell_2_1"
      },
      "execution_count": null,
      "outputs": []
    },
    {
      "cell_type": "markdown",
      "source": [
        "# 2. Run Prediction and Visualize Results\n",
        "\n",
        "Let's use our loaded model to run a prediction on a random test image and see how well it performs visually."
      ],
      "metadata": {
        "id": "md_cell_2_2"
      }
    },
    {
      "cell_type": "code",
      "source": [
        "# Choose a random image to test\n",
        "if 'model' in locals():\n",
        "    test_image_path = random.choice(list(Path(IMAGES_DIR).glob(\"*.png\")))\n",
        "    print(f\"Running prediction on image: {test_image_path.name}\")\n",
        "\n",
        "    # Run prediction\n",
        "    results = model.predict(source=str(test_image_path), conf=0.25)\n",
        "    result = results[0] # Get result for the first image\n",
        "\n",
        "    # Display the image with predicted masks\n",
        "    predicted_plot = result.plot(line_width=1, font_size=8)\n",
        "    plt.figure(figsize=(12, 12))\n",
        "    plt.imshow(cv2.cvtColor(predicted_plot, cv2.COLOR_BGR2RGB))\n",
        "    plt.title(f\"Model Predictions on '{test_image_path.name}'\")\n",
        "    plt.axis('off')\n",
        "    plt.show()\n",
        "else:\n",
        "    print(\"Model not loaded. Please run the previous cell first.\")"
      ],
      "metadata": {
        "id": "code_cell_2_2"
      },
      "execution_count": null,
      "outputs": []
    },
    {
      "cell_type": "markdown",
      "source": [
        "# 3. Morphometric Feature Extraction and Analysis\n",
        "\n",
        "This is the core scientific analysis. We define a function to calculate key metrics from the predicted masks and then display the results in a table and a histogram."
      ],
      "metadata": {
        "id": "md_cell_2_3"
      }
    },
    {
      "cell_type": "code",
      "source": [
        "def calculate_morphometrics(result_object):\n",
        "    \"\"\"\n",
        "    Calculates morphometric features from a YOLO result object.\n",
        "    \n",
        "    Args:\n",
        "        result_object: The result object from a `model.predict()` call.\n",
        "        \n",
        "    Returns:\n",
        "        pd.DataFrame: A pandas DataFrame with morphometric data for each cell.\n",
        "    \"\"\"\n",
        "    masks = result_object.masks\n",
        "    if not masks:\n",
        "        return pd.DataFrame()\n",
        "\n",
        "    morph_data = []\n",
        "    class_names = result_object.names\n",
        "\n",
        "    for i, mask_data in enumerate(masks):\n",
        "        mask_np = mask_data.data[0].cpu().numpy().astype(np.uint8)\n",
        "        contours, _ = cv2.findContours(mask_np, cv2.RETR_EXTERNAL, cv2.CHAIN_APPROX_SIMPLE)\n",
        "        if not contours: continue\n",
        "        \n",
        "        cnt = max(contours, key=cv2.contourArea)\n",
        "        area = cv2.contourArea(cnt)\n",
        "        perimeter = cv2.arcLength(cnt, True)\n",
        "        circularity = (4 * np.pi * area) / (perimeter**2) if perimeter > 0 else 0\n",
        "        \n",
        "        aspect_ratio = 0\n",
        "        if len(cnt) >= 5:\n",
        "            (x, y), (MA, ma), angle = cv2.fitEllipse(cnt)\n",
        "            aspect_ratio = MA / ma if ma > 0 else 0\n",
        "        \n",
        "        class_id = int(result_object.boxes[i].cls)\n",
        "        confidence = float(result_object.boxes[i].conf)\n",
        "\n",
        "        morph_data.append({\n",
        "            'cell_id': i + 1, 'class_name': class_names[class_id],\n",
        "            'confidence': round(confidence, 4), 'area_pixels': area,\n",
        "            'perimeter_pixels': perimeter, 'circularity': round(circularity, 4),\n",
        "            'aspect_ratio': round(aspect_ratio, 4)\n",
        "        })\n",
        "    return pd.DataFrame(morph_data)\n",
        "\n",
        "# Run the analysis on the prediction we just made\n",
        "if 'result' in locals() and result.masks:\n",
        "    df_morph = calculate_morphometrics(result)\n",
        "    print(\"Morphometric Analysis Table:\")\n",
        "    display(df_morph)\n",
        "\n",
        "    # Plot a histogram of the cell areas\n",
        "    plt.figure(figsize=(10, 6))\n",
        "    df_morph['area_pixels'].hist(bins=20, color='skyblue', edgecolor='black')\n",
        "    plt.title('Distribution of Detected Cell Areas')\n",
        "    plt.xlabel('Area (pixels²)')\n",
        "    plt.ylabel('Frequency')\n",
        "    plt.grid(axis='y', alpha=0.75)\n",
        "    plt.show()\n",
        "else:\n",
        "    print(\"\\nNo masks were detected in the test image to perform analysis.\")"
      ],
      "metadata": {
        "id": "code_cell_2_3"
      },
      "execution_count": null,
      "outputs": []
    }
  ]
}
